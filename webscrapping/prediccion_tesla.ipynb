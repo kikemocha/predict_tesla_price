{
 "cells": [
  {
   "cell_type": "code",
   "execution_count": 1,
   "metadata": {},
   "outputs": [],
   "source": [
    "import pandas as pd\n",
    "from sklearn.model_selection import train_test_split"
   ]
  },
  {
   "cell_type": "code",
   "execution_count": 2,
   "metadata": {},
   "outputs": [],
   "source": [
    "\n",
    "from sklearn.ensemble import RandomForestRegressor\n",
    "from sklearn.metrics import mean_absolute_error, r2_score\n",
    "from sklearn.preprocessing import LabelEncoder"
   ]
  },
  {
   "cell_type": "code",
   "execution_count": 3,
   "metadata": {},
   "outputs": [],
   "source": [
    "\n",
    "\n",
    "# 1. Cargar el CSV\n",
    "df = pd.read_csv('tesla_coches_combinados.csv')\n",
    "\n"
   ]
  },
  {
   "cell_type": "code",
   "execution_count": 4,
   "metadata": {},
   "outputs": [
    {
     "data": {
      "text/plain": [
       "dtype('O')"
      ]
     },
     "execution_count": 4,
     "metadata": {},
     "output_type": "execute_result"
    }
   ],
   "source": [
    "df['Precio (€)'].dtypes\n"
   ]
  },
  {
   "cell_type": "code",
   "execution_count": 5,
   "metadata": {},
   "outputs": [
    {
     "name": "stdout",
     "output_type": "stream",
     "text": [
      "Tipo inicial de la columna 'Precio (€)': object\n",
      "Tipo final de la columna 'Precio (€)': int64\n",
      "0    29100\n",
      "1    28600\n",
      "2    28400\n",
      "3    33500\n",
      "4    34200\n",
      "Name: Precio (€), dtype: int64\n"
     ]
    }
   ],
   "source": [
    "\n",
    "\n",
    "# Verificar tipo inicial de la columna\n",
    "print(\"Tipo inicial de la columna 'Precio (€)':\", df['Precio (€)'].dtypes)\n",
    "\n",
    "# Identificar valores no numéricos\n",
    "no_numericos = df[~df['Precio (€)'].astype(str).str.replace(',', '').str.replace('.', '').str.isdigit()]\n",
    "if not no_numericos.empty:\n",
    "    print(\"Valores no numéricos detectados en 'Precio (€)':\")\n",
    "    print(no_numericos)\n",
    "\n",
    "# Limpiar la columna 'Precio (€)'\n",
    "df['Precio (€)'] = df['Precio (€)'].str.replace(',', '').str.strip()\n",
    "\n",
    "# Convertir a tipo numérico\n",
    "df['Precio (€)'] = pd.to_numeric(df['Precio (€)'], errors='coerce')\n",
    "\n",
    "# Eliminar filas con valores NaN después de la conversión\n",
    "df = df.dropna(subset=['Precio (€)'])\n",
    "\n",
    "# Verificar el tipo final de la columna\n",
    "print(\"Tipo final de la columna 'Precio (€)':\", df['Precio (€)'].dtypes)\n",
    "\n",
    "# Ver los primeros valores limpios\n",
    "print(df['Precio (€)'].head())\n"
   ]
  },
  {
   "cell_type": "code",
   "execution_count": 6,
   "metadata": {},
   "outputs": [
    {
     "data": {
      "text/plain": [
       "dtype('int64')"
      ]
     },
     "execution_count": 6,
     "metadata": {},
     "output_type": "execute_result"
    }
   ],
   "source": [
    "df['Precio (€)'].dtypes\n"
   ]
  },
  {
   "cell_type": "code",
   "execution_count": 7,
   "metadata": {},
   "outputs": [
    {
     "data": {
      "text/plain": [
       "count       623.000000\n",
       "mean      58858.130016\n",
       "std       24851.045888\n",
       "min       25100.000000\n",
       "25%       43845.000000\n",
       "50%       51180.000000\n",
       "75%       58972.500000\n",
       "max      129025.000000\n",
       "Name: Precio (€), dtype: float64"
      ]
     },
     "execution_count": 7,
     "metadata": {},
     "output_type": "execute_result"
    }
   ],
   "source": [
    "df['Precio (€)'].describe()\n"
   ]
  },
  {
   "cell_type": "code",
   "execution_count": 8,
   "metadata": {},
   "outputs": [
    {
     "name": "stdout",
     "output_type": "stream",
     "text": [
      "Tipos de datos en X:\n",
      "Modelo                int64\n",
      "Año                   int64\n",
      "Kilometraje (kms)    object\n",
      "Color                 int64\n",
      "País                  int64\n",
      "dtype: object\n",
      "Convirtiendo la columna Kilometraje (kms) a numérico.\n",
      "Tipos de datos en X después de la conversión:\n",
      "Modelo                 int64\n",
      "Año                    int64\n",
      "Kilometraje (kms)    float64\n",
      "Color                  int64\n",
      "País                   int64\n",
      "dtype: object\n",
      "MAE (Error Absoluto Medio): 2216.8319255744264\n",
      "R2 (Coeficiente de Determinación): 0.9765647635507325\n",
      "Predicciones guardadas en 'tesla_predicciones.csv'.\n"
     ]
    }
   ],
   "source": [
    "\n",
    "# Limpieza robusta de la columna 'Precio (€)'\n",
    "df['Precio (€)'] = df['Precio (€)'].astype(str).str.replace(',', '').str.strip()\n",
    "df['Precio (€)'] = pd.to_numeric(df['Precio (€)'], errors='coerce')\n",
    "df = df.dropna(subset=['Precio (€)'])  # Eliminar filas con NaN en Precio (€)\n",
    "\n",
    "# Convertir variables categóricas en numéricas\n",
    "le_modelo = LabelEncoder()\n",
    "le_color = LabelEncoder()\n",
    "le_pais = LabelEncoder()\n",
    "\n",
    "df['Modelo'] = le_modelo.fit_transform(df['Modelo'])\n",
    "df['Color'] = le_color.fit_transform(df['Color'])\n",
    "df['País'] = le_pais.fit_transform(df['País'])\n",
    "\n",
    "# Separar características (X) y variable objetivo (y)\n",
    "X = df.drop(columns=['Precio (€)'])\n",
    "y = df['Precio (€)']\n",
    "\n",
    "# Verificar tipos de datos en X\n",
    "print(\"Tipos de datos en X:\")\n",
    "print(X.dtypes)\n",
    "\n",
    "# Asegurar que todas las columnas de X sean numéricas\n",
    "for column in X.columns:\n",
    "    if X[column].dtype == 'O':  # Si es tipo objeto, convertir\n",
    "        print(f\"Convirtiendo la columna {column} a numérico.\")\n",
    "        X[column] = pd.to_numeric(X[column], errors='coerce')\n",
    "\n",
    "# Verificar nuevamente\n",
    "print(\"Tipos de datos en X después de la conversión:\")\n",
    "print(X.dtypes)\n",
    "\n",
    "# Dividir en entrenamiento y prueba\n",
    "X_train, X_test, y_train, y_test = train_test_split(X, y, test_size=0.2, random_state=42)\n",
    "\n",
    "# Entrenar el modelo Random Forest\n",
    "model = RandomForestRegressor(random_state=42, n_estimators=100)\n",
    "model.fit(X_train, y_train)\n",
    "\n",
    "# Evaluar el modelo\n",
    "y_pred = model.predict(X_test)\n",
    "mae = mean_absolute_error(y_test, y_pred)\n",
    "r2 = r2_score(y_test, y_pred)\n",
    "\n",
    "print(f\"MAE (Error Absoluto Medio): {mae}\")\n",
    "print(f\"R2 (Coeficiente de Determinación): {r2}\")\n",
    "\n",
    "# Guardar predicciones\n",
    "df_test = X_test.copy()\n",
    "df_test['Precio Real (€)'] = y_test\n",
    "df_test['Precio Predicho (€)'] = y_pred\n",
    "df_test.to_csv('tesla_predicciones.csv', index=False)\n",
    "print(\"Predicciones guardadas en 'tesla_predicciones.csv'.\")\n"
   ]
  }
 ],
 "metadata": {
  "kernelspec": {
   "display_name": "iabd_scraping_env",
   "language": "python",
   "name": "python3"
  },
  "language_info": {
   "codemirror_mode": {
    "name": "ipython",
    "version": 3
   },
   "file_extension": ".py",
   "mimetype": "text/x-python",
   "name": "python",
   "nbconvert_exporter": "python",
   "pygments_lexer": "ipython3",
   "version": "3.11.10"
  }
 },
 "nbformat": 4,
 "nbformat_minor": 2
}
